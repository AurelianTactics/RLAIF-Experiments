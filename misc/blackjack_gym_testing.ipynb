{
  "nbformat": 4,
  "nbformat_minor": 0,
  "metadata": {
    "colab": {
      "provenance": []
    },
    "kernelspec": {
      "name": "python3",
      "display_name": "Python 3"
    },
    "language_info": {
      "name": "python"
    }
  },
  "cells": [
    {
      "cell_type": "code",
      "source": [
        "!pip install gymnasium"
      ],
      "metadata": {
        "colab": {
          "base_uri": "https://localhost:8080/"
        },
        "id": "lmITTH24MXw9",
        "outputId": "8af50386-6925-46c5-e5ee-845fb15b7d5b"
      },
      "execution_count": 2,
      "outputs": [
        {
          "output_type": "stream",
          "name": "stdout",
          "text": [
            "Collecting gymnasium\n",
            "  Downloading gymnasium-0.29.1-py3-none-any.whl (953 kB)\n",
            "\u001b[?25l     \u001b[90m━━━━━━━━━━━━━━━━━━━━━━━━━━━━━━━━━━━━━━━━\u001b[0m \u001b[32m0.0/953.9 kB\u001b[0m \u001b[31m?\u001b[0m eta \u001b[36m-:--:--\u001b[0m\r\u001b[2K     \u001b[91m━━━\u001b[0m\u001b[90m╺\u001b[0m\u001b[90m━━━━━━━━━━━━━━━━━━━━━━━━━━━━━━━━━━━━\u001b[0m \u001b[32m71.7/953.9 kB\u001b[0m \u001b[31m1.9 MB/s\u001b[0m eta \u001b[36m0:00:01\u001b[0m\r\u001b[2K     \u001b[91m━━━━━━━━━━━━━━━━━━━━━━━━━━━━━━━━━━━━━━━\u001b[0m\u001b[91m╸\u001b[0m \u001b[32m952.3/953.9 kB\u001b[0m \u001b[31m16.9 MB/s\u001b[0m eta \u001b[36m0:00:01\u001b[0m\r\u001b[2K     \u001b[90m━━━━━━━━━━━━━━━━━━━━━━━━━━━━━━━━━━━━━━━━\u001b[0m \u001b[32m953.9/953.9 kB\u001b[0m \u001b[31m12.9 MB/s\u001b[0m eta \u001b[36m0:00:00\u001b[0m\n",
            "\u001b[?25hRequirement already satisfied: numpy>=1.21.0 in /usr/local/lib/python3.10/dist-packages (from gymnasium) (1.23.5)\n",
            "Requirement already satisfied: cloudpickle>=1.2.0 in /usr/local/lib/python3.10/dist-packages (from gymnasium) (2.2.1)\n",
            "Requirement already satisfied: typing-extensions>=4.3.0 in /usr/local/lib/python3.10/dist-packages (from gymnasium) (4.5.0)\n",
            "Collecting farama-notifications>=0.0.1 (from gymnasium)\n",
            "  Downloading Farama_Notifications-0.0.4-py3-none-any.whl (2.5 kB)\n",
            "Installing collected packages: farama-notifications, gymnasium\n",
            "Successfully installed farama-notifications-0.0.4 gymnasium-0.29.1\n"
          ]
        }
      ]
    },
    {
      "cell_type": "markdown",
      "source": [
        "### Basic Blackjack exploration and understanding\n",
        "NO split, double, etc\n",
        "\t\thttps://gymnasium.farama.org/environments/toy_text/blackjack/\n",
        "\t\t\tThe observation consists of a 3-tuple containing: the player’s current sum, the value of the dealer’s \t\t\tone showing card (1-10 where 1 is ace), and whether the player holds a usable ace (0 or 1).\n",
        "\n",
        "\t\t\t0: Stick\n",
        "\t\t\t1: Hit\n",
        ""
      ],
      "metadata": {
        "id": "HpdyhfExCIBy"
      }
    },
    {
      "cell_type": "code",
      "source": [
        "#https://gymnasium.farama.org/environments/toy_text/blackjack/\n",
        "import gymnasium as gym\n",
        "\n",
        "env = gym.make('Blackjack-v1')\n",
        "\n",
        "num_episodes = 1000\n",
        "\n",
        "for ep in range(num_episodes):\n",
        "  step_in_episode = 0\n",
        "  obs = env.reset()\n",
        "  while True:\n",
        "    action = env.action_space.sample()\n",
        "    #action = 0\n",
        "    prior_obs = obs\n",
        "    obs, reward, terminated, truncated, info = env.step(action)\n",
        "    print(f\"Episode {ep} | step in ep {step_in_episode} | action {action} | prior obs {prior_obs} | obs {obs} \"\\\n",
        "        f\"| reward {reward} | terminated {terminated} | truncated {truncated} | info {info}\")\n",
        "    # if obs[0] == 21:\n",
        "    #   print(f\"Episode {ep} | step in ep {step_in_episode} | action {action} | prior obs {prior_obs} | obs {obs} \"\\\n",
        "    #     f\"| reward {reward} | terminated {terminated} | truncated {truncated} | info {info}\")\n",
        "    #print(ep, step_in_episode, action, prior_obs, obs, reward, terminated, truncated, info)\n",
        "    step_in_episode += 1\n",
        "    if terminated:\n",
        "      break\n"
      ],
      "metadata": {
        "colab": {
          "base_uri": "https://localhost:8080/"
        },
        "id": "87v0U0vhMOCX",
        "outputId": "b886df6d-2d86-47d6-b1ae-db5310ced466"
      },
      "execution_count": 15,
      "outputs": [
        {
          "output_type": "stream",
          "name": "stdout",
          "text": [
            "Episode 27 | step in ep 0 | action 0 | prior obs ((21, 4, 1), {}) | obs (21, 4, 1) | reward 1.0 | terminated True | truncated False | info {}\n",
            "Episode 48 | step in ep 0 | action 0 | prior obs ((21, 10, 1), {}) | obs (21, 10, 1) | reward 1.0 | terminated True | truncated False | info {}\n",
            "Episode 52 | step in ep 0 | action 0 | prior obs ((21, 1, 1), {}) | obs (21, 1, 1) | reward 1.0 | terminated True | truncated False | info {}\n",
            "Episode 98 | step in ep 0 | action 0 | prior obs ((21, 10, 1), {}) | obs (21, 10, 1) | reward 1.0 | terminated True | truncated False | info {}\n",
            "Episode 106 | step in ep 0 | action 0 | prior obs ((21, 1, 1), {}) | obs (21, 1, 1) | reward 1.0 | terminated True | truncated False | info {}\n",
            "Episode 123 | step in ep 0 | action 0 | prior obs ((21, 7, 1), {}) | obs (21, 7, 1) | reward 1.0 | terminated True | truncated False | info {}\n",
            "Episode 157 | step in ep 0 | action 0 | prior obs ((21, 10, 1), {}) | obs (21, 10, 1) | reward 1.0 | terminated True | truncated False | info {}\n",
            "Episode 205 | step in ep 0 | action 0 | prior obs ((21, 10, 1), {}) | obs (21, 10, 1) | reward 1.0 | terminated True | truncated False | info {}\n",
            "Episode 216 | step in ep 0 | action 0 | prior obs ((21, 4, 1), {}) | obs (21, 4, 1) | reward 1.0 | terminated True | truncated False | info {}\n",
            "Episode 277 | step in ep 0 | action 0 | prior obs ((21, 10, 1), {}) | obs (21, 10, 1) | reward 1.0 | terminated True | truncated False | info {}\n",
            "Episode 338 | step in ep 0 | action 0 | prior obs ((21, 1, 1), {}) | obs (21, 1, 1) | reward 0.0 | terminated True | truncated False | info {}\n",
            "Episode 381 | step in ep 0 | action 0 | prior obs ((21, 10, 1), {}) | obs (21, 10, 1) | reward 1.0 | terminated True | truncated False | info {}\n",
            "Episode 443 | step in ep 0 | action 0 | prior obs ((21, 10, 1), {}) | obs (21, 10, 1) | reward 1.0 | terminated True | truncated False | info {}\n",
            "Episode 457 | step in ep 0 | action 0 | prior obs ((21, 4, 1), {}) | obs (21, 4, 1) | reward 1.0 | terminated True | truncated False | info {}\n",
            "Episode 480 | step in ep 0 | action 0 | prior obs ((21, 5, 1), {}) | obs (21, 5, 1) | reward 1.0 | terminated True | truncated False | info {}\n",
            "Episode 498 | step in ep 0 | action 0 | prior obs ((21, 4, 1), {}) | obs (21, 4, 1) | reward 1.0 | terminated True | truncated False | info {}\n",
            "Episode 516 | step in ep 0 | action 0 | prior obs ((21, 8, 1), {}) | obs (21, 8, 1) | reward 1.0 | terminated True | truncated False | info {}\n",
            "Episode 563 | step in ep 0 | action 0 | prior obs ((21, 1, 1), {}) | obs (21, 1, 1) | reward 1.0 | terminated True | truncated False | info {}\n",
            "Episode 565 | step in ep 0 | action 0 | prior obs ((21, 5, 1), {}) | obs (21, 5, 1) | reward 1.0 | terminated True | truncated False | info {}\n",
            "Episode 578 | step in ep 0 | action 0 | prior obs ((21, 7, 1), {}) | obs (21, 7, 1) | reward 1.0 | terminated True | truncated False | info {}\n",
            "Episode 589 | step in ep 0 | action 0 | prior obs ((21, 3, 1), {}) | obs (21, 3, 1) | reward 1.0 | terminated True | truncated False | info {}\n",
            "Episode 602 | step in ep 0 | action 0 | prior obs ((21, 8, 1), {}) | obs (21, 8, 1) | reward 1.0 | terminated True | truncated False | info {}\n",
            "Episode 692 | step in ep 0 | action 0 | prior obs ((21, 2, 1), {}) | obs (21, 2, 1) | reward 1.0 | terminated True | truncated False | info {}\n",
            "Episode 702 | step in ep 0 | action 0 | prior obs ((21, 10, 1), {}) | obs (21, 10, 1) | reward 0.0 | terminated True | truncated False | info {}\n",
            "Episode 706 | step in ep 0 | action 0 | prior obs ((21, 5, 1), {}) | obs (21, 5, 1) | reward 1.0 | terminated True | truncated False | info {}\n",
            "Episode 724 | step in ep 0 | action 0 | prior obs ((21, 7, 1), {}) | obs (21, 7, 1) | reward 1.0 | terminated True | truncated False | info {}\n",
            "Episode 734 | step in ep 0 | action 0 | prior obs ((21, 10, 1), {}) | obs (21, 10, 1) | reward 1.0 | terminated True | truncated False | info {}\n",
            "Episode 740 | step in ep 0 | action 0 | prior obs ((21, 10, 1), {}) | obs (21, 10, 1) | reward 1.0 | terminated True | truncated False | info {}\n",
            "Episode 749 | step in ep 0 | action 0 | prior obs ((21, 4, 1), {}) | obs (21, 4, 1) | reward 1.0 | terminated True | truncated False | info {}\n",
            "Episode 767 | step in ep 0 | action 0 | prior obs ((21, 9, 1), {}) | obs (21, 9, 1) | reward 1.0 | terminated True | truncated False | info {}\n",
            "Episode 784 | step in ep 0 | action 0 | prior obs ((21, 7, 1), {}) | obs (21, 7, 1) | reward 1.0 | terminated True | truncated False | info {}\n",
            "Episode 796 | step in ep 0 | action 0 | prior obs ((21, 4, 1), {}) | obs (21, 4, 1) | reward 1.0 | terminated True | truncated False | info {}\n",
            "Episode 812 | step in ep 0 | action 0 | prior obs ((21, 10, 1), {}) | obs (21, 10, 1) | reward 1.0 | terminated True | truncated False | info {}\n",
            "Episode 832 | step in ep 0 | action 0 | prior obs ((21, 3, 1), {}) | obs (21, 3, 1) | reward 1.0 | terminated True | truncated False | info {}\n",
            "Episode 854 | step in ep 0 | action 0 | prior obs ((21, 1, 1), {}) | obs (21, 1, 1) | reward 0.0 | terminated True | truncated False | info {}\n",
            "Episode 860 | step in ep 0 | action 0 | prior obs ((21, 5, 1), {}) | obs (21, 5, 1) | reward 1.0 | terminated True | truncated False | info {}\n",
            "Episode 879 | step in ep 0 | action 0 | prior obs ((21, 10, 1), {}) | obs (21, 10, 1) | reward 1.0 | terminated True | truncated False | info {}\n",
            "Episode 911 | step in ep 0 | action 0 | prior obs ((21, 7, 1), {}) | obs (21, 7, 1) | reward 1.0 | terminated True | truncated False | info {}\n",
            "Episode 929 | step in ep 0 | action 0 | prior obs ((21, 9, 1), {}) | obs (21, 9, 1) | reward 1.0 | terminated True | truncated False | info {}\n",
            "Episode 933 | step in ep 0 | action 0 | prior obs ((21, 10, 1), {}) | obs (21, 10, 1) | reward 1.0 | terminated True | truncated False | info {}\n",
            "Episode 955 | step in ep 0 | action 0 | prior obs ((21, 10, 1), {}) | obs (21, 10, 1) | reward 1.0 | terminated True | truncated False | info {}\n"
          ]
        }
      ]
    },
    {
      "cell_type": "code",
      "source": [
        "obs"
      ],
      "metadata": {
        "colab": {
          "base_uri": "https://localhost:8080/"
        },
        "id": "Q0DSF3cAPHpY",
        "outputId": "088dc8d9-ec71-4275-d085-bfa2139e10d6"
      },
      "execution_count": 13,
      "outputs": [
        {
          "output_type": "execute_result",
          "data": {
            "text/plain": [
              "(25, 10, 0)"
            ]
          },
          "metadata": {},
          "execution_count": 13
        }
      ]
    },
    {
      "cell_type": "code",
      "source": [
        "env = gym.make('Blackjack-v1')\n",
        "obs = env.reset()\n",
        "obs"
      ],
      "metadata": {
        "colab": {
          "base_uri": "https://localhost:8080/"
        },
        "id": "N9_eCGV7NOSj",
        "outputId": "283d3913-2110-47a4-cb46-6b9b561d9618"
      },
      "execution_count": 5,
      "outputs": [
        {
          "output_type": "execute_result",
          "data": {
            "text/plain": [
              "((20, 10, 0), {})"
            ]
          },
          "metadata": {},
          "execution_count": 5
        }
      ]
    },
    {
      "cell_type": "code",
      "source": [
        "env.step(action)"
      ],
      "metadata": {
        "colab": {
          "base_uri": "https://localhost:8080/"
        },
        "id": "tEamKhjnMdCL",
        "outputId": "6b3fa6b2-ef90-42f1-cf68-398abb4a8a62"
      },
      "execution_count": 4,
      "outputs": [
        {
          "output_type": "execute_result",
          "data": {
            "text/plain": [
              "((17, 10, 0), -1.0, True, False, {})"
            ]
          },
          "metadata": {},
          "execution_count": 4
        }
      ]
    },
    {
      "cell_type": "code",
      "source": [
        "dir(env)"
      ],
      "metadata": {
        "colab": {
          "base_uri": "https://localhost:8080/"
        },
        "id": "tRGPfytaMf8J",
        "outputId": "7d1e8550-b84b-4e6d-962e-5d1786887ccf"
      },
      "execution_count": 9,
      "outputs": [
        {
          "output_type": "execute_result",
          "data": {
            "text/plain": [
              "['__annotations__',\n",
              " '__class__',\n",
              " '__class_getitem__',\n",
              " '__delattr__',\n",
              " '__dict__',\n",
              " '__dir__',\n",
              " '__doc__',\n",
              " '__enter__',\n",
              " '__eq__',\n",
              " '__exit__',\n",
              " '__format__',\n",
              " '__ge__',\n",
              " '__getattr__',\n",
              " '__getattribute__',\n",
              " '__gt__',\n",
              " '__hash__',\n",
              " '__init__',\n",
              " '__init_subclass__',\n",
              " '__le__',\n",
              " '__lt__',\n",
              " '__module__',\n",
              " '__ne__',\n",
              " '__new__',\n",
              " '__orig_bases__',\n",
              " '__parameters__',\n",
              " '__reduce__',\n",
              " '__reduce_ex__',\n",
              " '__repr__',\n",
              " '__setattr__',\n",
              " '__sizeof__',\n",
              " '__slots__',\n",
              " '__str__',\n",
              " '__subclasshook__',\n",
              " '__weakref__',\n",
              " '_action_space',\n",
              " '_cached_spec',\n",
              " '_disable_render_order_enforcing',\n",
              " '_has_reset',\n",
              " '_is_protocol',\n",
              " '_metadata',\n",
              " '_np_random',\n",
              " '_observation_space',\n",
              " '_reward_range',\n",
              " '_saved_kwargs',\n",
              " 'action_space',\n",
              " 'class_name',\n",
              " 'close',\n",
              " 'env',\n",
              " 'get_wrapper_attr',\n",
              " 'has_reset',\n",
              " 'metadata',\n",
              " 'np_random',\n",
              " 'observation_space',\n",
              " 'render',\n",
              " 'render_mode',\n",
              " 'reset',\n",
              " 'reward_range',\n",
              " 'spec',\n",
              " 'step',\n",
              " 'unwrapped',\n",
              " 'wrapper_spec']"
            ]
          },
          "metadata": {},
          "execution_count": 9
        }
      ]
    },
    {
      "cell_type": "code",
      "source": [
        "env.natural"
      ],
      "metadata": {
        "colab": {
          "base_uri": "https://localhost:8080/"
        },
        "id": "XyWe5_ZDO1qk",
        "outputId": "80dab7ff-bac2-4007-ae22-0c511eefc4af"
      },
      "execution_count": 12,
      "outputs": [
        {
          "output_type": "stream",
          "name": "stderr",
          "text": [
            "/usr/local/lib/python3.10/dist-packages/gymnasium/core.py:311: UserWarning: \u001b[33mWARN: env.natural to get variables from other wrappers is deprecated and will be removed in v1.0, to get this variable you can do `env.unwrapped.natural` for environment variables or `env.get_wrapper_attr('natural')` that will search the reminding wrappers.\u001b[0m\n",
            "  logger.warn(\n"
          ]
        },
        {
          "output_type": "execute_result",
          "data": {
            "text/plain": [
              "False"
            ]
          },
          "metadata": {},
          "execution_count": 12
        }
      ]
    },
    {
      "cell_type": "code",
      "source": [
        "env.spec"
      ],
      "metadata": {
        "colab": {
          "base_uri": "https://localhost:8080/"
        },
        "id": "ezIQ3C46OrM8",
        "outputId": "5661fbdb-7bc0-4141-ee78-0cd71028d840"
      },
      "execution_count": 10,
      "outputs": [
        {
          "output_type": "execute_result",
          "data": {
            "text/plain": [
              "EnvSpec(id='Blackjack-v1', entry_point='gymnasium.envs.toy_text.blackjack:BlackjackEnv', reward_threshold=None, nondeterministic=False, max_episode_steps=None, order_enforce=True, autoreset=False, disable_env_checker=False, apply_api_compatibility=False, kwargs={'sab': True, 'natural': False}, namespace=None, name='Blackjack', version=1, additional_wrappers=(), vector_entry_point=None)"
            ]
          },
          "metadata": {},
          "execution_count": 10
        }
      ]
    },
    {
      "cell_type": "code",
      "source": [],
      "metadata": {
        "id": "e1gBbsqROp46"
      },
      "execution_count": null,
      "outputs": []
    }
  ]
}